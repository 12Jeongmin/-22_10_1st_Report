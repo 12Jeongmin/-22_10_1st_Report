{
  "nbformat": 4,
  "nbformat_minor": 0,
  "metadata": {
    "colab": {
      "provenance": [],
      "authorship_tag": "ABX9TyMeqkdyyNR0QTX9zYf9XuEh",
      "include_colab_link": true
    },
    "kernelspec": {
      "name": "python3",
      "display_name": "Python 3"
    },
    "language_info": {
      "name": "python"
    }
  },
  "cells": [
    {
      "cell_type": "markdown",
      "metadata": {
        "id": "view-in-github",
        "colab_type": "text"
      },
      "source": [
        "<a href=\"https://colab.research.google.com/github/12Jeongmin/22_10_1st_Report/blob/main/Report_1st.ipynb\" target=\"_parent\"><img src=\"https://colab.research.google.com/assets/colab-badge.svg\" alt=\"Open In Colab\"/></a>"
      ]
    },
    {
      "cell_type": "markdown",
      "source": [
        "1.\"환영합니다.\", \"파이썬의 세계의 오신 것을 환영합니다.\", \"파이썬은 강력합니다.\"를 화면에 출력하는 프로그램을작성하시오. 스크립트 모드로 실행한다.\n",
        "2. 다음 프로그램의 실행 결과를 쓰시오 반갑습니다. 파이썬!, 2*3/10, Hello, World, !!!\n",
        "3. 파이썬 쉘을 사용하여서 한 주가 몇 시간에 해당하는지를 계산해보자. 일주일은 7일이고 1일은 24시간이다. 따라서 7*24를 하여서 출력하면 된다."
      ],
      "metadata": {
        "id": "jdv7mTUMtjLg"
      }
    },
    {
      "cell_type": "code",
      "source": [
        "print(\"환영합니다.\")\n",
        "print(\"파이썬의 세계의 오신 것을 환영 합니다.\")\n",
        "print(\"파이썬은 강력합니다.\")"
      ],
      "metadata": {
        "colab": {
          "base_uri": "https://localhost:8080/"
        },
        "id": "u1tESewXuCAc",
        "outputId": "76f5a921-4144-405e-bb48-3d02db73467b"
      },
      "execution_count": null,
      "outputs": [
        {
          "output_type": "stream",
          "name": "stdout",
          "text": [
            "환영합니다.\n",
            "파이썬의 세계의 오신 것을 환영 합니다.\n",
            "파이썬은 강력합니다.\n"
          ]
        }
      ]
    },
    {
      "cell_type": "code",
      "source": [
        "print(\"반갑습니다. 파이썬\")\n",
        "print(2*3/10)\n",
        "print(\"Hello\", \"World\", \"!!!\")"
      ],
      "metadata": {
        "colab": {
          "base_uri": "https://localhost:8080/"
        },
        "id": "Ctr1hTosuugw",
        "outputId": "66baa400-d724-479c-ce41-b4a87da1bc87"
      },
      "execution_count": null,
      "outputs": [
        {
          "output_type": "stream",
          "name": "stdout",
          "text": [
            "반갑습니다. 파이썬\n",
            "0.6\n",
            "Hello World !!!\n"
          ]
        }
      ]
    },
    {
      "cell_type": "code",
      "source": [
        "print(\"한 주가 몇 시간에 해당하는가?\")\n",
        "print(\"일주일은 7일이고 1일은 24시간이다 그러므로 한 주는\",7*24,\"시간에 해당한다.\")"
      ],
      "metadata": {
        "colab": {
          "base_uri": "https://localhost:8080/"
        },
        "id": "9sRL6SjPvEBr",
        "outputId": "5bc12e8a-64e7-45cd-efc3-f3269123d00c"
      },
      "execution_count": 1,
      "outputs": [
        {
          "output_type": "stream",
          "name": "stdout",
          "text": [
            "한 주가 몇 시간에 해당하는가?\n",
            "일주일은 7일이고 1일은 24시간이다 그러므로 한 주는 168 시간에 해당한다.\n"
          ]
        }
      ]
    }
  ]
}